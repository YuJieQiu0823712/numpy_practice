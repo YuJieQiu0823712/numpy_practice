{
 "cells": [
  {
   "cell_type": "markdown",
   "id": "08c2da48",
   "metadata": {},
   "source": [
    "# NumPy Arrays: \n",
    "## Creating Arrays"
   ]
  },
  {
   "cell_type": "code",
   "execution_count": 3,
   "id": "85be0038",
   "metadata": {},
   "outputs": [],
   "source": [
    "import numpy as np\n",
    "import matplotlib.pylab as plt\n",
    "from numpy import random"
   ]
  },
  {
   "cell_type": "code",
   "execution_count": 4,
   "id": "0dba3817",
   "metadata": {},
   "outputs": [
    {
     "data": {
      "text/plain": [
       "array([1, 2, 3, 4, 5], dtype=int8)"
      ]
     },
     "execution_count": 4,
     "metadata": {},
     "output_type": "execute_result"
    }
   ],
   "source": [
    "list_1 = [1,2,3,4,5]\n",
    "arr_1 = np.array(list_1,dtype=np.int8)\n",
    "arr_1"
   ]
  },
  {
   "cell_type": "code",
   "execution_count": 5,
   "id": "68da192a",
   "metadata": {},
   "outputs": [],
   "source": [
    "m_list_1 = [[1,2,3],[4,5,6],[7,8,9]]\n",
    "m_arr_1 = np.array(m_list_1)"
   ]
  },
  {
   "cell_type": "code",
   "execution_count": 6,
   "id": "d50e5f5b",
   "metadata": {},
   "outputs": [
    {
     "data": {
      "text/plain": [
       "9"
      ]
     },
     "execution_count": 6,
     "metadata": {},
     "output_type": "execute_result"
    }
   ],
   "source": [
    "m_arr_1.size"
   ]
  },
  {
   "cell_type": "code",
   "execution_count": 7,
   "id": "72e852d4",
   "metadata": {},
   "outputs": [
    {
     "data": {
      "text/plain": [
       "dtype('int64')"
      ]
     },
     "execution_count": 7,
     "metadata": {},
     "output_type": "execute_result"
    }
   ],
   "source": [
    "m_arr_1.dtype\n",
    "# Data Types\n",
    "# Boolean : np.bool_\n",
    "# Char : np.byte\n",
    "# Short : np.short\n",
    "# Integer : np.short\n",
    "# Long : np.int_\n",
    "# Float : np.single & np.float32\n",
    "# Double : np.double & np.float64\n",
    "# np.int8 : -128 to 127\n",
    "# np.int16 : -32768 to 32767\n",
    "# np.int32 : -2147483648 to 2147483647\n",
    "# np.int64 : -9223372036854775808 to 9223372036854775807"
   ]
  },
  {
   "cell_type": "code",
   "execution_count": 8,
   "id": "0ab0a56f",
   "metadata": {},
   "outputs": [
    {
     "data": {
      "text/plain": [
       "array([1, 3, 5, 7, 9])"
      ]
     },
     "execution_count": 8,
     "metadata": {},
     "output_type": "execute_result"
    }
   ],
   "source": [
    "np.arange(1,10,2)"
   ]
  },
  {
   "cell_type": "code",
   "execution_count": 9,
   "id": "496da7d0",
   "metadata": {},
   "outputs": [
    {
     "data": {
      "text/plain": [
       "array([0.        , 0.83333333, 1.66666667, 2.5       , 3.33333333,\n",
       "       4.16666667, 5.        ])"
      ]
     },
     "execution_count": 9,
     "metadata": {},
     "output_type": "execute_result"
    }
   ],
   "source": [
    "np.linspace(0,5,7)"
   ]
  },
  {
   "cell_type": "code",
   "execution_count": 10,
   "id": "f2439348",
   "metadata": {},
   "outputs": [
    {
     "data": {
      "text/plain": [
       "array([0., 0., 0., 0.])"
      ]
     },
     "execution_count": 10,
     "metadata": {},
     "output_type": "execute_result"
    }
   ],
   "source": [
    "np.zeros(4)"
   ]
  },
  {
   "cell_type": "code",
   "execution_count": 11,
   "id": "fd9e9bb8",
   "metadata": {},
   "outputs": [
    {
     "data": {
      "text/plain": [
       "array([[1., 1., 1.],\n",
       "       [1., 1., 1.]])"
      ]
     },
     "execution_count": 11,
     "metadata": {},
     "output_type": "execute_result"
    }
   ],
   "source": [
    "np.ones((2,3))"
   ]
  },
  {
   "cell_type": "code",
   "execution_count": 12,
   "id": "d423324e",
   "metadata": {},
   "outputs": [
    {
     "data": {
      "text/plain": [
       "array([27, 37, 40, 24, 11], dtype=int32)"
      ]
     },
     "execution_count": 12,
     "metadata": {},
     "output_type": "execute_result"
    }
   ],
   "source": [
    "np.random.randint(10,50,5)\n"
   ]
  },
  {
   "cell_type": "code",
   "execution_count": 13,
   "id": "ebd7cf64",
   "metadata": {},
   "outputs": [
    {
     "data": {
      "text/plain": [
       "array([[33, 35, 19],\n",
       "       [11, 35, 11]], dtype=int32)"
      ]
     },
     "execution_count": 13,
     "metadata": {},
     "output_type": "execute_result"
    }
   ],
   "source": [
    "np.random.randint(10,50, size=(2,3))"
   ]
  },
  {
   "cell_type": "code",
   "execution_count": 14,
   "id": "b0107360",
   "metadata": {},
   "outputs": [
    {
     "name": "stdout",
     "output_type": "stream",
     "text": [
      "\u001b[31mSignature:\u001b[39m np.random.randint(low, high=\u001b[38;5;28;01mNone\u001b[39;00m, size=\u001b[38;5;28;01mNone\u001b[39;00m, dtype=<\u001b[38;5;28;01mclass\u001b[39;00m \u001b[33m'int'\u001b[39m>)\n",
      "\u001b[31mDocstring:\u001b[39m\n",
      "randint(low, high=None, size=None, dtype=int)\n",
      "\n",
      "Return random integers from `low` (inclusive) to `high` (exclusive).\n",
      "\n",
      "Return random integers from the \"discrete uniform\" distribution of\n",
      "the specified dtype in the \"half-open\" interval [`low`, `high`). If\n",
      "`high` is None (the default), then results are from [0, `low`).\n",
      "\n",
      ".. note::\n",
      "    New code should use the `~numpy.random.Generator.integers`\n",
      "    method of a `~numpy.random.Generator` instance instead;\n",
      "    please see the :ref:`random-quick-start`.\n",
      "\n",
      "Parameters\n",
      "----------\n",
      "low : int or array-like of ints\n",
      "    Lowest (signed) integers to be drawn from the distribution (unless\n",
      "    ``high=None``, in which case this parameter is one above the\n",
      "    *highest* such integer).\n",
      "high : int or array-like of ints, optional\n",
      "    If provided, one above the largest (signed) integer to be drawn\n",
      "    from the distribution (see above for behavior if ``high=None``).\n",
      "    If array-like, must contain integer values\n",
      "size : int or tuple of ints, optional\n",
      "    Output shape.  If the given shape is, e.g., ``(m, n, k)``, then\n",
      "    ``m * n * k`` samples are drawn.  Default is None, in which case a\n",
      "    single value is returned.\n",
      "dtype : dtype, optional\n",
      "    Desired dtype of the result. Byteorder must be native.\n",
      "    The default value is long.\n",
      "\n",
      "    .. warning::\n",
      "      This function defaults to the C-long dtype, which is 32bit on windows\n",
      "      and otherwise 64bit on 64bit platforms (and 32bit on 32bit ones).\n",
      "      Since NumPy 2.0, NumPy's default integer is 32bit on 32bit platforms\n",
      "      and 64bit on 64bit platforms.  Which corresponds to `np.intp`.\n",
      "      (`dtype=int` is not the same as in most NumPy functions.)\n",
      "\n",
      "Returns\n",
      "-------\n",
      "out : int or ndarray of ints\n",
      "    `size`-shaped array of random integers from the appropriate\n",
      "    distribution, or a single such random int if `size` not provided.\n",
      "\n",
      "See Also\n",
      "--------\n",
      "random_integers : similar to `randint`, only for the closed\n",
      "    interval [`low`, `high`], and 1 is the lowest value if `high` is\n",
      "    omitted.\n",
      "random.Generator.integers: which should be used for new code.\n",
      "\n",
      "Examples\n",
      "--------\n",
      ">>> np.random.randint(2, size=10)\n",
      "array([1, 0, 0, 0, 1, 1, 0, 0, 1, 0]) # random\n",
      ">>> np.random.randint(1, size=10)\n",
      "array([0, 0, 0, 0, 0, 0, 0, 0, 0, 0])\n",
      "\n",
      "Generate a 2 x 4 array of ints between 0 and 4, inclusive:\n",
      "\n",
      ">>> np.random.randint(5, size=(2, 4))\n",
      "array([[4, 0, 2, 1], # random\n",
      "       [3, 2, 2, 0]])\n",
      "\n",
      "Generate a 1 x 3 array with 3 different upper bounds\n",
      "\n",
      ">>> np.random.randint(1, [3, 5, 10])\n",
      "array([2, 2, 9]) # random\n",
      "\n",
      "Generate a 1 by 3 array with 3 different lower bounds\n",
      "\n",
      ">>> np.random.randint([1, 5, 7], 10)\n",
      "array([9, 8, 7]) # random\n",
      "\n",
      "Generate a 2 by 4 array using broadcasting with dtype of uint8\n",
      "\n",
      ">>> np.random.randint([1, 3, 5, 7], [[10], [20]], dtype=np.uint8)\n",
      "array([[ 8,  6,  9,  7], # random\n",
      "       [ 1, 16,  9, 12]], dtype=uint8)\n",
      "\u001b[31mType:\u001b[39m      method"
     ]
    }
   ],
   "source": [
    "np.random.randint?"
   ]
  },
  {
   "cell_type": "markdown",
   "id": "7213e552",
   "metadata": {},
   "source": [
    "## Slicing and Indexes"
   ]
  },
  {
   "cell_type": "code",
   "execution_count": 19,
   "id": "1a69032c",
   "metadata": {},
   "outputs": [
    {
     "name": "stdout",
     "output_type": "stream",
     "text": [
      "np_m_arr_1\n",
      " [[2 1 3]\n",
      " [4 5 6]\n",
      " [7 8 9]]\n"
     ]
    },
    {
     "data": {
      "text/plain": [
       "array([[2, 1, 3],\n",
       "       [4, 5, 6],\n",
       "       [7, 8, 9]])"
      ]
     },
     "execution_count": 19,
     "metadata": {},
     "output_type": "execute_result"
    }
   ],
   "source": [
    "print(\"np_m_arr_1\\n\", m_arr_1)\n",
    "m_arr_1[0,0] = 2\n",
    "m_arr_1[0,1] = 1\n",
    "m_arr_1"
   ]
  },
  {
   "cell_type": "code",
   "execution_count": 20,
   "id": "cdc7f2ff",
   "metadata": {},
   "outputs": [
    {
     "data": {
      "text/plain": [
       "3"
      ]
     },
     "execution_count": 20,
     "metadata": {},
     "output_type": "execute_result"
    }
   ],
   "source": [
    "m_arr_1.shape\n",
    "m_arr_1.item(0,2)"
   ]
  },
  {
   "cell_type": "code",
   "execution_count": null,
   "id": "c008e291",
   "metadata": {},
   "outputs": [
    {
     "data": {
      "text/plain": [
       "array([2, 4, 7])"
      ]
     },
     "execution_count": 21,
     "metadata": {},
     "output_type": "execute_result"
    }
   ],
   "source": [
    "np.take(m_arr_1, [0,3,6]) #"
   ]
  },
  {
   "cell_type": "code",
   "execution_count": null,
   "id": "2f157acd",
   "metadata": {},
   "outputs": [
    {
     "data": {
      "text/plain": [
       "array([[10,  1,  3],\n",
       "       [10,  5,  6],\n",
       "       [10,  8,  9]])"
      ]
     },
     "execution_count": 22,
     "metadata": {},
     "output_type": "execute_result"
    }
   ],
   "source": [
    "np.put(m_arr_1, [0,3,6], [10, 10, 10]) #\n",
    "m_arr_1"
   ]
  },
  {
   "cell_type": "code",
   "execution_count": 24,
   "id": "03aa1496",
   "metadata": {},
   "outputs": [
    {
     "data": {
      "text/plain": [
       "array([1, 3, 5], dtype=int8)"
      ]
     },
     "execution_count": 24,
     "metadata": {},
     "output_type": "execute_result"
    }
   ],
   "source": [
    "arr_1[:5:2]"
   ]
  },
  {
   "cell_type": "code",
   "execution_count": 26,
   "id": "0b6f4826",
   "metadata": {},
   "outputs": [
    {
     "data": {
      "text/plain": [
       "array([1, 5, 8])"
      ]
     },
     "execution_count": 26,
     "metadata": {},
     "output_type": "execute_result"
    }
   ],
   "source": [
    "m_arr_1[:,1]"
   ]
  },
  {
   "cell_type": "code",
   "execution_count": null,
   "id": "e1f77b15",
   "metadata": {},
   "outputs": [
    {
     "data": {
      "text/plain": [
       "array([[10,  8,  9],\n",
       "       [10,  5,  6],\n",
       "       [10,  1,  3]])"
      ]
     },
     "execution_count": 27,
     "metadata": {},
     "output_type": "execute_result"
    }
   ],
   "source": [
    "m_arr_1[::-1] #"
   ]
  },
  {
   "cell_type": "code",
   "execution_count": 29,
   "id": "6e1201f3",
   "metadata": {},
   "outputs": [
    {
     "data": {
      "text/plain": [
       "array([10, 10,  6, 10,  8])"
      ]
     },
     "execution_count": 29,
     "metadata": {},
     "output_type": "execute_result"
    }
   ],
   "source": [
    "evens = m_arr_1[m_arr_1%2==0]\n",
    "evens"
   ]
  },
  {
   "cell_type": "code",
   "execution_count": 31,
   "id": "fc589824",
   "metadata": {},
   "outputs": [
    {
     "data": {
      "text/plain": [
       "array([6, 8])"
      ]
     },
     "execution_count": 31,
     "metadata": {},
     "output_type": "execute_result"
    }
   ],
   "source": [
    "m_arr_1[(m_arr_1 > 5) & (m_arr_1 < 9)]"
   ]
  },
  {
   "cell_type": "code",
   "execution_count": 32,
   "id": "1644656e",
   "metadata": {},
   "outputs": [
    {
     "data": {
      "text/plain": [
       "array([ 1,  3,  5,  6,  8,  9, 10])"
      ]
     },
     "execution_count": 32,
     "metadata": {},
     "output_type": "execute_result"
    }
   ],
   "source": [
    "np.unique(m_arr_1)"
   ]
  },
  {
   "cell_type": "markdown",
   "id": "741ac147",
   "metadata": {},
   "source": [
    "# Reshaping Arrays"
   ]
  },
  {
   "cell_type": "code",
   "execution_count": 33,
   "id": "4ae159fb",
   "metadata": {},
   "outputs": [
    {
     "data": {
      "text/plain": [
       "array([[10,  1,  3, 10,  5,  6, 10,  8,  9]])"
      ]
     },
     "execution_count": 33,
     "metadata": {},
     "output_type": "execute_result"
    }
   ],
   "source": [
    "m_arr_1.reshape((1,9))"
   ]
  },
  {
   "cell_type": "code",
   "execution_count": null,
   "id": "e649d2ca",
   "metadata": {},
   "outputs": [
    {
     "data": {
      "text/plain": [
       "array([[10,  1,  3, 10,  5],\n",
       "       [ 6, 10,  8,  9, 10]])"
      ]
     },
     "execution_count": 34,
     "metadata": {},
     "output_type": "execute_result"
    }
   ],
   "source": [
    "np.resize(m_arr_1, (2,5))"
   ]
  },
  {
   "cell_type": "code",
   "execution_count": null,
   "id": "5310ce35",
   "metadata": {},
   "outputs": [
    {
     "data": {
      "text/plain": [
       "array([[10, 10, 10],\n",
       "       [ 1,  5,  8],\n",
       "       [ 3,  6,  9]])"
      ]
     },
     "execution_count": 35,
     "metadata": {},
     "output_type": "execute_result"
    }
   ],
   "source": [
    "m_arr_1.transpose()\n",
    "# m_arr_1.swapaxes(0,1)"
   ]
  },
  {
   "cell_type": "code",
   "execution_count": 40,
   "id": "57ba4dd0",
   "metadata": {},
   "outputs": [
    {
     "data": {
      "text/plain": [
       "array([10, 10, 10,  1,  5,  8,  3,  6,  9])"
      ]
     },
     "execution_count": 40,
     "metadata": {},
     "output_type": "execute_result"
    }
   ],
   "source": [
    "m_arr_1.flatten('F')"
   ]
  },
  {
   "cell_type": "code",
   "execution_count": null,
   "id": "3da78739",
   "metadata": {},
   "outputs": [
    {
     "data": {
      "text/plain": [
       "array([[ 1,  3, 10],\n",
       "       [ 5,  6, 10],\n",
       "       [ 8,  9, 10]])"
      ]
     },
     "execution_count": 44,
     "metadata": {},
     "output_type": "execute_result"
    }
   ],
   "source": [
    "m_arr_1.sort(axis=1) #row\n",
    "m_arr_1"
   ]
  },
  {
   "cell_type": "markdown",
   "id": "8ba6468a",
   "metadata": {},
   "source": [
    "# Stacking & Splitting"
   ]
  },
  {
   "cell_type": "code",
   "execution_count": null,
   "id": "a5cbb488",
   "metadata": {},
   "outputs": [
    {
     "name": "stdout",
     "output_type": "stream",
     "text": [
      "ss_arr_1\n",
      " [[9 2]\n",
      " [6 2]]\n",
      "ss_arr_2\n",
      " [[6 6]\n",
      " [9 7]]\n"
     ]
    },
    {
     "data": {
      "text/plain": [
       "array([[9, 2],\n",
       "       [6, 2],\n",
       "       [6, 6],\n",
       "       [9, 7]], dtype=int32)"
      ]
     },
     "execution_count": 48,
     "metadata": {},
     "output_type": "execute_result"
    }
   ],
   "source": [
    "ss_arr_1 = np.random.randint(10,size=(2,2))\n",
    "print(\"ss_arr_1\\n\",ss_arr_1)\n",
    "ss_arr_2 = np.random.randint(10,size=(2,2))\n",
    "print(\"ss_arr_2\\n\",ss_arr_2)\n",
    "\n",
    "np.vstack((ss_arr_1,ss_arr_2))\n",
    "# np.hstack()"
   ]
  },
  {
   "cell_type": "code",
   "execution_count": 49,
   "id": "2597a9d4",
   "metadata": {},
   "outputs": [
    {
     "data": {
      "text/plain": [
       "array([[9, 2]], dtype=int32)"
      ]
     },
     "execution_count": 49,
     "metadata": {},
     "output_type": "execute_result"
    }
   ],
   "source": [
    "ss_arr_3 = np.delete(ss_arr_1,1,0)\n",
    "ss_arr_3"
   ]
  },
  {
   "cell_type": "code",
   "execution_count": null,
   "id": "f7268050",
   "metadata": {},
   "outputs": [
    {
     "data": {
      "text/plain": [
       "array([[9, 2, 9, 2]], dtype=int32)"
      ]
     },
     "execution_count": 51,
     "metadata": {},
     "output_type": "execute_result"
    }
   ],
   "source": [
    "np.column_stack((ss_arr_3,ss_arr_3))\n",
    "# np.row_stack()"
   ]
  },
  {
   "cell_type": "code",
   "execution_count": 53,
   "id": "6b4981cc",
   "metadata": {},
   "outputs": [
    {
     "name": "stdout",
     "output_type": "stream",
     "text": [
      "ss_arr_4\n",
      " [[8 6 5 3 0 0 6 4 8 2]\n",
      " [2 8 9 6 3 8 5 6 4 5]]\n"
     ]
    },
    {
     "data": {
      "text/plain": [
       "[array([[8, 6],\n",
       "        [2, 8]], dtype=int32),\n",
       " array([[5, 3],\n",
       "        [9, 6]], dtype=int32),\n",
       " array([[0, 0],\n",
       "        [3, 8]], dtype=int32),\n",
       " array([[6, 4],\n",
       "        [5, 6]], dtype=int32),\n",
       " array([[8, 2],\n",
       "        [4, 5]], dtype=int32)]"
      ]
     },
     "execution_count": 53,
     "metadata": {},
     "output_type": "execute_result"
    }
   ],
   "source": [
    "ss_arr_4 = np.random.randint(10,size=(2,10))\n",
    "print(\"ss_arr_4\\n\", ss_arr_4)\n",
    "np.hsplit(ss_arr_4,5)"
   ]
  },
  {
   "cell_type": "code",
   "execution_count": 54,
   "id": "e5981788",
   "metadata": {},
   "outputs": [
    {
     "data": {
      "text/plain": [
       "[array([[8, 6],\n",
       "        [2, 8]], dtype=int32),\n",
       " array([[5, 3],\n",
       "        [9, 6]], dtype=int32),\n",
       " array([[0, 0, 6, 4, 8, 2],\n",
       "        [3, 8, 5, 6, 4, 5]], dtype=int32)]"
      ]
     },
     "execution_count": 54,
     "metadata": {},
     "output_type": "execute_result"
    }
   ],
   "source": [
    "np.hsplit(ss_arr_4,(2,4))"
   ]
  },
  {
   "cell_type": "markdown",
   "id": "31882a1a",
   "metadata": {},
   "source": [
    "# Copying"
   ]
  },
  {
   "cell_type": "code",
   "execution_count": 56,
   "id": "aa7f71c0",
   "metadata": {},
   "outputs": [
    {
     "name": "stdout",
     "output_type": "stream",
     "text": [
      "cp_arr_1\n",
      " [[2 8]\n",
      " [9 8]]\n",
      "cp_arr_2\n",
      " [[2 8]\n",
      " [9 8]]\n"
     ]
    }
   ],
   "source": [
    "cp_arr_1 = np.random.randint(10, size=(2,2))\n",
    "cp_arr_2 = cp_arr_1\n",
    "cp_arr_1[0,0] = 2\n",
    "print(\"cp_arr_1\\n\", cp_arr_1)\n",
    "print(\"cp_arr_2\\n\", cp_arr_2)"
   ]
  },
  {
   "cell_type": "code",
   "execution_count": null,
   "id": "897990b5",
   "metadata": {},
   "outputs": [
    {
     "data": {
      "text/plain": [
       "array([2, 9, 8, 8], dtype=int32)"
      ]
     },
     "execution_count": 62,
     "metadata": {},
     "output_type": "execute_result"
    }
   ],
   "source": [
    "cp_arr_3 = cp_arr_1.view() # shares memory\n",
    "cp_arr_3.flatten(\"F\")"
   ]
  },
  {
   "cell_type": "code",
   "execution_count": 61,
   "id": "f599bfbd",
   "metadata": {},
   "outputs": [
    {
     "name": "stdout",
     "output_type": "stream",
     "text": [
      "cp_arr_1\n",
      " [[2 8]\n",
      " [9 8]]\n"
     ]
    }
   ],
   "source": [
    "print(\"cp_arr_1\\n\", cp_arr_1)"
   ]
  },
  {
   "cell_type": "code",
   "execution_count": null,
   "id": "bd2ada1e",
   "metadata": {},
   "outputs": [],
   "source": [
    "cp_arr_4 = cp_arr_1.copy() # new independent array"
   ]
  },
  {
   "cell_type": "markdown",
   "id": "44642efe",
   "metadata": {},
   "source": [
    "# Basic Math"
   ]
  },
  {
   "cell_type": "code",
   "execution_count": null,
   "id": "3c31090f",
   "metadata": {},
   "outputs": [],
   "source": []
  }
 ],
 "metadata": {
  "kernelspec": {
   "display_name": "Python 3",
   "language": "python",
   "name": "python3"
  },
  "language_info": {
   "codemirror_mode": {
    "name": "ipython",
    "version": 3
   },
   "file_extension": ".py",
   "mimetype": "text/x-python",
   "name": "python",
   "nbconvert_exporter": "python",
   "pygments_lexer": "ipython3",
   "version": "3.13.2"
  }
 },
 "nbformat": 4,
 "nbformat_minor": 5
}
