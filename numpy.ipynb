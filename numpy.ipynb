{
 "cells": [
  {
   "cell_type": "markdown",
   "id": "08c2da48",
   "metadata": {},
   "source": [
    "# NumPy Arrays: \n",
    "## Creating Arrays"
   ]
  },
  {
   "cell_type": "code",
   "execution_count": 2,
   "id": "85be0038",
   "metadata": {},
   "outputs": [],
   "source": [
    "import numpy as np\n",
    "import matplotlib.pylab as plt\n",
    "from numpy import random"
   ]
  },
  {
   "cell_type": "code",
   "execution_count": 3,
   "id": "0dba3817",
   "metadata": {},
   "outputs": [
    {
     "data": {
      "text/plain": [
       "array([1, 2, 3, 4, 5], dtype=int8)"
      ]
     },
     "execution_count": 3,
     "metadata": {},
     "output_type": "execute_result"
    }
   ],
   "source": [
    "list_1 = [1,2,3,4,5]\n",
    "arr_1 = np.array(list_1,dtype=np.int8)\n",
    "arr_1"
   ]
  },
  {
   "cell_type": "code",
   "execution_count": 4,
   "id": "68da192a",
   "metadata": {},
   "outputs": [],
   "source": [
    "m_list_1 = [[1,2,3],[4,5,6],[7,8,9]]\n",
    "m_arr_1 = np.array(m_list_1)"
   ]
  },
  {
   "cell_type": "code",
   "execution_count": 5,
   "id": "d50e5f5b",
   "metadata": {},
   "outputs": [
    {
     "data": {
      "text/plain": [
       "9"
      ]
     },
     "execution_count": 5,
     "metadata": {},
     "output_type": "execute_result"
    }
   ],
   "source": [
    "m_arr_1.size"
   ]
  },
  {
   "cell_type": "code",
   "execution_count": 6,
   "id": "72e852d4",
   "metadata": {},
   "outputs": [
    {
     "data": {
      "text/plain": [
       "dtype('int64')"
      ]
     },
     "execution_count": 6,
     "metadata": {},
     "output_type": "execute_result"
    }
   ],
   "source": [
    "m_arr_1.dtype\n",
    "# Data Types\n",
    "# Boolean : np.bool_\n",
    "# Char : np.byte\n",
    "# Short : np.short\n",
    "# Integer : np.short\n",
    "# Long : np.int_\n",
    "# Float : np.single & np.float32\n",
    "# Double : np.double & np.float64\n",
    "# np.int8 : -128 to 127\n",
    "# np.int16 : -32768 to 32767\n",
    "# np.int32 : -2147483648 to 2147483647\n",
    "# np.int64 : -9223372036854775808 to 9223372036854775807"
   ]
  },
  {
   "cell_type": "code",
   "execution_count": 7,
   "id": "0ab0a56f",
   "metadata": {},
   "outputs": [
    {
     "data": {
      "text/plain": [
       "array([1, 3, 5, 7, 9])"
      ]
     },
     "execution_count": 7,
     "metadata": {},
     "output_type": "execute_result"
    }
   ],
   "source": [
    "np.arange(1,10,2)"
   ]
  },
  {
   "cell_type": "code",
   "execution_count": 8,
   "id": "496da7d0",
   "metadata": {},
   "outputs": [
    {
     "data": {
      "text/plain": [
       "array([0.        , 0.83333333, 1.66666667, 2.5       , 3.33333333,\n",
       "       4.16666667, 5.        ])"
      ]
     },
     "execution_count": 8,
     "metadata": {},
     "output_type": "execute_result"
    }
   ],
   "source": [
    "np.linspace(0,5,7)"
   ]
  },
  {
   "cell_type": "code",
   "execution_count": 9,
   "id": "f2439348",
   "metadata": {},
   "outputs": [
    {
     "data": {
      "text/plain": [
       "array([0., 0., 0., 0.])"
      ]
     },
     "execution_count": 9,
     "metadata": {},
     "output_type": "execute_result"
    }
   ],
   "source": [
    "np.zeros(4)"
   ]
  },
  {
   "cell_type": "code",
   "execution_count": 10,
   "id": "fd9e9bb8",
   "metadata": {},
   "outputs": [
    {
     "data": {
      "text/plain": [
       "array([[1., 1., 1.],\n",
       "       [1., 1., 1.]])"
      ]
     },
     "execution_count": 10,
     "metadata": {},
     "output_type": "execute_result"
    }
   ],
   "source": [
    "np.ones((2,3))"
   ]
  },
  {
   "cell_type": "code",
   "execution_count": 11,
   "id": "d423324e",
   "metadata": {},
   "outputs": [
    {
     "data": {
      "text/plain": [
       "array([14, 18, 35, 34, 19], dtype=int32)"
      ]
     },
     "execution_count": 11,
     "metadata": {},
     "output_type": "execute_result"
    }
   ],
   "source": [
    "np.random.randint(10,50,5)\n"
   ]
  },
  {
   "cell_type": "code",
   "execution_count": 12,
   "id": "ebd7cf64",
   "metadata": {},
   "outputs": [
    {
     "data": {
      "text/plain": [
       "array([[23, 43, 28],\n",
       "       [11, 27, 10]], dtype=int32)"
      ]
     },
     "execution_count": 12,
     "metadata": {},
     "output_type": "execute_result"
    }
   ],
   "source": [
    "np.random.randint(10,50, size=(2,3))"
   ]
  },
  {
   "cell_type": "code",
   "execution_count": 13,
   "id": "b0107360",
   "metadata": {},
   "outputs": [
    {
     "name": "stdout",
     "output_type": "stream",
     "text": [
      "\u001b[31mSignature:\u001b[39m np.random.randint(low, high=\u001b[38;5;28;01mNone\u001b[39;00m, size=\u001b[38;5;28;01mNone\u001b[39;00m, dtype=<\u001b[38;5;28;01mclass\u001b[39;00m \u001b[33m'int'\u001b[39m>)\n",
      "\u001b[31mDocstring:\u001b[39m\n",
      "randint(low, high=None, size=None, dtype=int)\n",
      "\n",
      "Return random integers from `low` (inclusive) to `high` (exclusive).\n",
      "\n",
      "Return random integers from the \"discrete uniform\" distribution of\n",
      "the specified dtype in the \"half-open\" interval [`low`, `high`). If\n",
      "`high` is None (the default), then results are from [0, `low`).\n",
      "\n",
      ".. note::\n",
      "    New code should use the `~numpy.random.Generator.integers`\n",
      "    method of a `~numpy.random.Generator` instance instead;\n",
      "    please see the :ref:`random-quick-start`.\n",
      "\n",
      "Parameters\n",
      "----------\n",
      "low : int or array-like of ints\n",
      "    Lowest (signed) integers to be drawn from the distribution (unless\n",
      "    ``high=None``, in which case this parameter is one above the\n",
      "    *highest* such integer).\n",
      "high : int or array-like of ints, optional\n",
      "    If provided, one above the largest (signed) integer to be drawn\n",
      "    from the distribution (see above for behavior if ``high=None``).\n",
      "    If array-like, must contain integer values\n",
      "size : int or tuple of ints, optional\n",
      "    Output shape.  If the given shape is, e.g., ``(m, n, k)``, then\n",
      "    ``m * n * k`` samples are drawn.  Default is None, in which case a\n",
      "    single value is returned.\n",
      "dtype : dtype, optional\n",
      "    Desired dtype of the result. Byteorder must be native.\n",
      "    The default value is long.\n",
      "\n",
      "    .. warning::\n",
      "      This function defaults to the C-long dtype, which is 32bit on windows\n",
      "      and otherwise 64bit on 64bit platforms (and 32bit on 32bit ones).\n",
      "      Since NumPy 2.0, NumPy's default integer is 32bit on 32bit platforms\n",
      "      and 64bit on 64bit platforms.  Which corresponds to `np.intp`.\n",
      "      (`dtype=int` is not the same as in most NumPy functions.)\n",
      "\n",
      "Returns\n",
      "-------\n",
      "out : int or ndarray of ints\n",
      "    `size`-shaped array of random integers from the appropriate\n",
      "    distribution, or a single such random int if `size` not provided.\n",
      "\n",
      "See Also\n",
      "--------\n",
      "random_integers : similar to `randint`, only for the closed\n",
      "    interval [`low`, `high`], and 1 is the lowest value if `high` is\n",
      "    omitted.\n",
      "random.Generator.integers: which should be used for new code.\n",
      "\n",
      "Examples\n",
      "--------\n",
      ">>> np.random.randint(2, size=10)\n",
      "array([1, 0, 0, 0, 1, 1, 0, 0, 1, 0]) # random\n",
      ">>> np.random.randint(1, size=10)\n",
      "array([0, 0, 0, 0, 0, 0, 0, 0, 0, 0])\n",
      "\n",
      "Generate a 2 x 4 array of ints between 0 and 4, inclusive:\n",
      "\n",
      ">>> np.random.randint(5, size=(2, 4))\n",
      "array([[4, 0, 2, 1], # random\n",
      "       [3, 2, 2, 0]])\n",
      "\n",
      "Generate a 1 x 3 array with 3 different upper bounds\n",
      "\n",
      ">>> np.random.randint(1, [3, 5, 10])\n",
      "array([2, 2, 9]) # random\n",
      "\n",
      "Generate a 1 by 3 array with 3 different lower bounds\n",
      "\n",
      ">>> np.random.randint([1, 5, 7], 10)\n",
      "array([9, 8, 7]) # random\n",
      "\n",
      "Generate a 2 by 4 array using broadcasting with dtype of uint8\n",
      "\n",
      ">>> np.random.randint([1, 3, 5, 7], [[10], [20]], dtype=np.uint8)\n",
      "array([[ 8,  6,  9,  7], # random\n",
      "       [ 1, 16,  9, 12]], dtype=uint8)\n",
      "\u001b[31mType:\u001b[39m      method"
     ]
    }
   ],
   "source": [
    "np.random.randint?"
   ]
  },
  {
   "cell_type": "markdown",
   "id": "7213e552",
   "metadata": {},
   "source": [
    "## Slicing and Indexes"
   ]
  },
  {
   "cell_type": "code",
   "execution_count": 14,
   "id": "1a69032c",
   "metadata": {},
   "outputs": [
    {
     "name": "stdout",
     "output_type": "stream",
     "text": [
      "np_m_arr_1\n",
      " [[1 2 3]\n",
      " [4 5 6]\n",
      " [7 8 9]]\n"
     ]
    },
    {
     "data": {
      "text/plain": [
       "array([[2, 1, 3],\n",
       "       [4, 5, 6],\n",
       "       [7, 8, 9]])"
      ]
     },
     "execution_count": 14,
     "metadata": {},
     "output_type": "execute_result"
    }
   ],
   "source": [
    "print(\"np_m_arr_1\\n\", m_arr_1)\n",
    "m_arr_1[0,0] = 2\n",
    "m_arr_1[0,1] = 1\n",
    "m_arr_1"
   ]
  },
  {
   "cell_type": "code",
   "execution_count": 15,
   "id": "cdc7f2ff",
   "metadata": {},
   "outputs": [
    {
     "data": {
      "text/plain": [
       "3"
      ]
     },
     "execution_count": 15,
     "metadata": {},
     "output_type": "execute_result"
    }
   ],
   "source": [
    "m_arr_1.shape\n",
    "m_arr_1.item(0,2)"
   ]
  },
  {
   "cell_type": "code",
   "execution_count": 16,
   "id": "c008e291",
   "metadata": {},
   "outputs": [
    {
     "data": {
      "text/plain": [
       "array([2, 4, 7])"
      ]
     },
     "execution_count": 16,
     "metadata": {},
     "output_type": "execute_result"
    }
   ],
   "source": [
    "np.take(m_arr_1, [0,3,6]) #"
   ]
  },
  {
   "cell_type": "code",
   "execution_count": 17,
   "id": "2f157acd",
   "metadata": {},
   "outputs": [
    {
     "data": {
      "text/plain": [
       "array([[10,  1,  3],\n",
       "       [10,  5,  6],\n",
       "       [10,  8,  9]])"
      ]
     },
     "execution_count": 17,
     "metadata": {},
     "output_type": "execute_result"
    }
   ],
   "source": [
    "np.put(m_arr_1, [0,3,6], [10, 10, 10]) #\n",
    "m_arr_1"
   ]
  },
  {
   "cell_type": "code",
   "execution_count": 18,
   "id": "03aa1496",
   "metadata": {},
   "outputs": [
    {
     "data": {
      "text/plain": [
       "array([1, 3, 5], dtype=int8)"
      ]
     },
     "execution_count": 18,
     "metadata": {},
     "output_type": "execute_result"
    }
   ],
   "source": [
    "arr_1[:5:2]"
   ]
  },
  {
   "cell_type": "code",
   "execution_count": 19,
   "id": "0b6f4826",
   "metadata": {},
   "outputs": [
    {
     "data": {
      "text/plain": [
       "array([1, 5, 8])"
      ]
     },
     "execution_count": 19,
     "metadata": {},
     "output_type": "execute_result"
    }
   ],
   "source": [
    "m_arr_1[:,1]"
   ]
  },
  {
   "cell_type": "code",
   "execution_count": 20,
   "id": "e1f77b15",
   "metadata": {},
   "outputs": [
    {
     "data": {
      "text/plain": [
       "array([[10,  8,  9],\n",
       "       [10,  5,  6],\n",
       "       [10,  1,  3]])"
      ]
     },
     "execution_count": 20,
     "metadata": {},
     "output_type": "execute_result"
    }
   ],
   "source": [
    "m_arr_1[::-1] #"
   ]
  },
  {
   "cell_type": "code",
   "execution_count": 21,
   "id": "6e1201f3",
   "metadata": {},
   "outputs": [
    {
     "data": {
      "text/plain": [
       "array([10, 10,  6, 10,  8])"
      ]
     },
     "execution_count": 21,
     "metadata": {},
     "output_type": "execute_result"
    }
   ],
   "source": [
    "evens = m_arr_1[m_arr_1%2==0]\n",
    "evens"
   ]
  },
  {
   "cell_type": "code",
   "execution_count": 22,
   "id": "fc589824",
   "metadata": {},
   "outputs": [
    {
     "data": {
      "text/plain": [
       "array([6, 8])"
      ]
     },
     "execution_count": 22,
     "metadata": {},
     "output_type": "execute_result"
    }
   ],
   "source": [
    "m_arr_1[(m_arr_1 > 5) & (m_arr_1 < 9)]"
   ]
  },
  {
   "cell_type": "code",
   "execution_count": 23,
   "id": "1644656e",
   "metadata": {},
   "outputs": [
    {
     "data": {
      "text/plain": [
       "array([ 1,  3,  5,  6,  8,  9, 10])"
      ]
     },
     "execution_count": 23,
     "metadata": {},
     "output_type": "execute_result"
    }
   ],
   "source": [
    "np.unique(m_arr_1)"
   ]
  },
  {
   "cell_type": "markdown",
   "id": "741ac147",
   "metadata": {},
   "source": [
    "# Reshaping Arrays"
   ]
  },
  {
   "cell_type": "code",
   "execution_count": 24,
   "id": "4ae159fb",
   "metadata": {},
   "outputs": [
    {
     "data": {
      "text/plain": [
       "array([[10,  1,  3, 10,  5,  6, 10,  8,  9]])"
      ]
     },
     "execution_count": 24,
     "metadata": {},
     "output_type": "execute_result"
    }
   ],
   "source": [
    "m_arr_1.reshape((1,9))"
   ]
  },
  {
   "cell_type": "code",
   "execution_count": 25,
   "id": "e649d2ca",
   "metadata": {},
   "outputs": [
    {
     "data": {
      "text/plain": [
       "array([[10,  1,  3, 10,  5],\n",
       "       [ 6, 10,  8,  9, 10]])"
      ]
     },
     "execution_count": 25,
     "metadata": {},
     "output_type": "execute_result"
    }
   ],
   "source": [
    "np.resize(m_arr_1, (2,5))"
   ]
  },
  {
   "cell_type": "code",
   "execution_count": 26,
   "id": "5310ce35",
   "metadata": {},
   "outputs": [
    {
     "data": {
      "text/plain": [
       "array([[10, 10, 10],\n",
       "       [ 1,  5,  8],\n",
       "       [ 3,  6,  9]])"
      ]
     },
     "execution_count": 26,
     "metadata": {},
     "output_type": "execute_result"
    }
   ],
   "source": [
    "m_arr_1.transpose()\n",
    "# m_arr_1.swapaxes(0,1)"
   ]
  },
  {
   "cell_type": "code",
   "execution_count": 27,
   "id": "57ba4dd0",
   "metadata": {},
   "outputs": [
    {
     "data": {
      "text/plain": [
       "array([10, 10, 10,  1,  5,  8,  3,  6,  9])"
      ]
     },
     "execution_count": 27,
     "metadata": {},
     "output_type": "execute_result"
    }
   ],
   "source": [
    "m_arr_1.flatten('F')"
   ]
  },
  {
   "cell_type": "code",
   "execution_count": 28,
   "id": "3da78739",
   "metadata": {},
   "outputs": [
    {
     "data": {
      "text/plain": [
       "array([[ 1,  3, 10],\n",
       "       [ 5,  6, 10],\n",
       "       [ 8,  9, 10]])"
      ]
     },
     "execution_count": 28,
     "metadata": {},
     "output_type": "execute_result"
    }
   ],
   "source": [
    "m_arr_1.sort(axis=1) #row\n",
    "m_arr_1"
   ]
  },
  {
   "cell_type": "markdown",
   "id": "8ba6468a",
   "metadata": {},
   "source": [
    "# Stacking & Splitting"
   ]
  },
  {
   "cell_type": "code",
   "execution_count": 29,
   "id": "a5cbb488",
   "metadata": {},
   "outputs": [
    {
     "name": "stdout",
     "output_type": "stream",
     "text": [
      "ss_arr_1\n",
      " [[3 6]\n",
      " [4 8]]\n",
      "ss_arr_2\n",
      " [[2 3]\n",
      " [5 0]]\n"
     ]
    },
    {
     "data": {
      "text/plain": [
       "array([[3, 6],\n",
       "       [4, 8],\n",
       "       [2, 3],\n",
       "       [5, 0]], dtype=int32)"
      ]
     },
     "execution_count": 29,
     "metadata": {},
     "output_type": "execute_result"
    }
   ],
   "source": [
    "ss_arr_1 = np.random.randint(10,size=(2,2))\n",
    "print(\"ss_arr_1\\n\",ss_arr_1)\n",
    "ss_arr_2 = np.random.randint(10,size=(2,2))\n",
    "print(\"ss_arr_2\\n\",ss_arr_2)\n",
    "\n",
    "np.vstack((ss_arr_1,ss_arr_2))\n",
    "# np.hstack()"
   ]
  },
  {
   "cell_type": "code",
   "execution_count": 30,
   "id": "2597a9d4",
   "metadata": {},
   "outputs": [
    {
     "data": {
      "text/plain": [
       "array([[3, 6]], dtype=int32)"
      ]
     },
     "execution_count": 30,
     "metadata": {},
     "output_type": "execute_result"
    }
   ],
   "source": [
    "ss_arr_3 = np.delete(ss_arr_1,1,0)\n",
    "ss_arr_3"
   ]
  },
  {
   "cell_type": "code",
   "execution_count": 31,
   "id": "f7268050",
   "metadata": {},
   "outputs": [
    {
     "data": {
      "text/plain": [
       "array([[3, 6, 3, 6]], dtype=int32)"
      ]
     },
     "execution_count": 31,
     "metadata": {},
     "output_type": "execute_result"
    }
   ],
   "source": [
    "np.column_stack((ss_arr_3,ss_arr_3))\n",
    "# np.row_stack()"
   ]
  },
  {
   "cell_type": "code",
   "execution_count": 32,
   "id": "6b4981cc",
   "metadata": {},
   "outputs": [
    {
     "name": "stdout",
     "output_type": "stream",
     "text": [
      "ss_arr_4\n",
      " [[3 2 6 0 5 3 5 5 9 0]\n",
      " [2 7 5 5 4 5 4 8 0 5]]\n"
     ]
    },
    {
     "data": {
      "text/plain": [
       "[array([[3, 2],\n",
       "        [2, 7]], dtype=int32),\n",
       " array([[6, 0],\n",
       "        [5, 5]], dtype=int32),\n",
       " array([[5, 3],\n",
       "        [4, 5]], dtype=int32),\n",
       " array([[5, 5],\n",
       "        [4, 8]], dtype=int32),\n",
       " array([[9, 0],\n",
       "        [0, 5]], dtype=int32)]"
      ]
     },
     "execution_count": 32,
     "metadata": {},
     "output_type": "execute_result"
    }
   ],
   "source": [
    "ss_arr_4 = np.random.randint(10,size=(2,10))\n",
    "print(\"ss_arr_4\\n\", ss_arr_4)\n",
    "np.hsplit(ss_arr_4,5)"
   ]
  },
  {
   "cell_type": "code",
   "execution_count": 33,
   "id": "e5981788",
   "metadata": {},
   "outputs": [
    {
     "data": {
      "text/plain": [
       "[array([[3, 2],\n",
       "        [2, 7]], dtype=int32),\n",
       " array([[6, 0],\n",
       "        [5, 5]], dtype=int32),\n",
       " array([[5, 3, 5, 5, 9, 0],\n",
       "        [4, 5, 4, 8, 0, 5]], dtype=int32)]"
      ]
     },
     "execution_count": 33,
     "metadata": {},
     "output_type": "execute_result"
    }
   ],
   "source": [
    "np.hsplit(ss_arr_4,(2,4))"
   ]
  },
  {
   "cell_type": "markdown",
   "id": "31882a1a",
   "metadata": {},
   "source": [
    "# Copying"
   ]
  },
  {
   "cell_type": "code",
   "execution_count": 34,
   "id": "aa7f71c0",
   "metadata": {},
   "outputs": [
    {
     "name": "stdout",
     "output_type": "stream",
     "text": [
      "cp_arr_1\n",
      " [[2 4]\n",
      " [2 7]]\n",
      "cp_arr_2\n",
      " [[2 4]\n",
      " [2 7]]\n"
     ]
    }
   ],
   "source": [
    "cp_arr_1 = np.random.randint(10, size=(2,2))\n",
    "cp_arr_2 = cp_arr_1\n",
    "cp_arr_1[0,0] = 2\n",
    "print(\"cp_arr_1\\n\", cp_arr_1)\n",
    "print(\"cp_arr_2\\n\", cp_arr_2)"
   ]
  },
  {
   "cell_type": "code",
   "execution_count": 35,
   "id": "897990b5",
   "metadata": {},
   "outputs": [
    {
     "data": {
      "text/plain": [
       "array([2, 2, 4, 7], dtype=int32)"
      ]
     },
     "execution_count": 35,
     "metadata": {},
     "output_type": "execute_result"
    }
   ],
   "source": [
    "cp_arr_3 = cp_arr_1.view() # shares memory\n",
    "cp_arr_3.flatten(\"F\")"
   ]
  },
  {
   "cell_type": "code",
   "execution_count": 36,
   "id": "f599bfbd",
   "metadata": {},
   "outputs": [
    {
     "name": "stdout",
     "output_type": "stream",
     "text": [
      "cp_arr_1\n",
      " [[2 4]\n",
      " [2 7]]\n"
     ]
    }
   ],
   "source": [
    "print(\"cp_arr_1\\n\", cp_arr_1)"
   ]
  },
  {
   "cell_type": "code",
   "execution_count": 37,
   "id": "bd2ada1e",
   "metadata": {},
   "outputs": [],
   "source": [
    "cp_arr_4 = cp_arr_1.copy() # new independent array"
   ]
  },
  {
   "cell_type": "markdown",
   "id": "44642efe",
   "metadata": {},
   "source": [
    "# Basic Math"
   ]
  },
  {
   "cell_type": "code",
   "execution_count": 38,
   "id": "3c31090f",
   "metadata": {},
   "outputs": [
    {
     "data": {
      "text/plain": [
       "array([0.5, 0.5, 0.5, 0.5])"
      ]
     },
     "execution_count": 38,
     "metadata": {},
     "output_type": "execute_result"
    }
   ],
   "source": [
    "arr_3 = np.array([1,2,3,4])\n",
    "arr_4 = np.array([2,4,6,8])\n",
    "arr_3 / arr_4"
   ]
  },
  {
   "cell_type": "code",
   "execution_count": 39,
   "id": "5aa6a2d1",
   "metadata": {},
   "outputs": [
    {
     "data": {
      "text/plain": [
       "array([62, 60, 39, 78], dtype=int32)"
      ]
     },
     "execution_count": 39,
     "metadata": {},
     "output_type": "execute_result"
    }
   ],
   "source": [
    "arr_5 = random.randint(100, size=(4))\n",
    "arr_5"
   ]
  },
  {
   "cell_type": "code",
   "execution_count": 40,
   "id": "320dc64b",
   "metadata": {},
   "outputs": [
    {
     "data": {
      "text/plain": [
       "array([[43, 13, 36],\n",
       "       [29, 65, 22]], dtype=int32)"
      ]
     },
     "execution_count": 40,
     "metadata": {},
     "output_type": "execute_result"
    }
   ],
   "source": [
    "arr_6 = random.randint(100, size=(2,3))\n",
    "arr_6"
   ]
  },
  {
   "cell_type": "code",
   "execution_count": 41,
   "id": "4b4a7001",
   "metadata": {},
   "outputs": [
    {
     "data": {
      "text/plain": [
       "array([0.95502294, 0.02667515, 0.06182986, 0.46770757])"
      ]
     },
     "execution_count": 41,
     "metadata": {},
     "output_type": "execute_result"
    }
   ],
   "source": [
    "random.rand(4)"
   ]
  },
  {
   "cell_type": "code",
   "execution_count": 42,
   "id": "54484329",
   "metadata": {},
   "outputs": [
    {
     "data": {
      "text/plain": [
       "np.int64(3)"
      ]
     },
     "execution_count": 42,
     "metadata": {},
     "output_type": "execute_result"
    }
   ],
   "source": [
    "random.choice(arr_3)"
   ]
  },
  {
   "cell_type": "code",
   "execution_count": 43,
   "id": "56a5a7a0",
   "metadata": {},
   "outputs": [
    {
     "data": {
      "text/plain": [
       "np.int64(10)"
      ]
     },
     "execution_count": 43,
     "metadata": {},
     "output_type": "execute_result"
    }
   ],
   "source": [
    "arr_3.sum()"
   ]
  },
  {
   "cell_type": "code",
   "execution_count": 44,
   "id": "f80d188a",
   "metadata": {},
   "outputs": [
    {
     "data": {
      "text/plain": [
       "array([72, 78, 58])"
      ]
     },
     "execution_count": 44,
     "metadata": {},
     "output_type": "execute_result"
    }
   ],
   "source": [
    "arr_6.sum(axis=0)"
   ]
  },
  {
   "cell_type": "code",
   "execution_count": 45,
   "id": "ba9780f4",
   "metadata": {},
   "outputs": [
    {
     "data": {
      "text/plain": [
       "array([[ 43,  56,  92],\n",
       "       [ 29,  94, 116]])"
      ]
     },
     "execution_count": 45,
     "metadata": {},
     "output_type": "execute_result"
    }
   ],
   "source": [
    "arr_6.cumsum(axis=1)"
   ]
  },
  {
   "cell_type": "code",
   "execution_count": 46,
   "id": "3b2f281b",
   "metadata": {},
   "outputs": [
    {
     "data": {
      "text/plain": [
       "np.int32(13)"
      ]
     },
     "execution_count": 46,
     "metadata": {},
     "output_type": "execute_result"
    }
   ],
   "source": [
    "arr_6.min() # max()"
   ]
  },
  {
   "cell_type": "code",
   "execution_count": 47,
   "id": "abbd1b61",
   "metadata": {},
   "outputs": [
    {
     "data": {
      "text/plain": [
       "array([ 3,  6,  9, 12])"
      ]
     },
     "execution_count": 47,
     "metadata": {},
     "output_type": "execute_result"
    }
   ],
   "source": [
    "np.add(arr_3,arr_4) # subtract,multiple,divide"
   ]
  },
  {
   "cell_type": "code",
   "execution_count": 48,
   "id": "73a492bf",
   "metadata": {},
   "outputs": [
    {
     "data": {
      "text/plain": [
       "array([[0, 0],\n",
       "       [0, 1]])"
      ]
     },
     "execution_count": 48,
     "metadata": {},
     "output_type": "execute_result"
    }
   ],
   "source": [
    "arr_7 = np.array([[1,2],[3,4]])\n",
    "arr_8 = np.array([[2,4],[6,9]])\n",
    "np.remainder(arr_8,arr_7)"
   ]
  },
  {
   "cell_type": "code",
   "execution_count": 49,
   "id": "5ad39759",
   "metadata": {},
   "outputs": [
    {
     "data": {
      "text/plain": [
       "array([1.        , 1.41421356, 1.73205081, 2.        ])"
      ]
     },
     "execution_count": 49,
     "metadata": {},
     "output_type": "execute_result"
    }
   ],
   "source": [
    "np.sqrt(arr_3) #cbrt"
   ]
  },
  {
   "cell_type": "code",
   "execution_count": 50,
   "id": "3cccf5c2",
   "metadata": {},
   "outputs": [
    {
     "data": {
      "text/plain": [
       "array([1, 2])"
      ]
     },
     "execution_count": 50,
     "metadata": {},
     "output_type": "execute_result"
    }
   ],
   "source": [
    "np.absolute([-1,-2])"
   ]
  },
  {
   "cell_type": "code",
   "execution_count": 51,
   "id": "9031f04e",
   "metadata": {},
   "outputs": [
    {
     "data": {
      "text/plain": [
       "array([ 2.71828183,  7.3890561 , 20.08553692, 54.59815003])"
      ]
     },
     "execution_count": 51,
     "metadata": {},
     "output_type": "execute_result"
    }
   ],
   "source": [
    "np.exp(arr_3)"
   ]
  },
  {
   "cell_type": "code",
   "execution_count": 52,
   "id": "6b1eff26",
   "metadata": {},
   "outputs": [
    {
     "data": {
      "text/plain": [
       "array([0.       , 1.       , 1.5849625, 2.       ])"
      ]
     },
     "execution_count": 52,
     "metadata": {},
     "output_type": "execute_result"
    }
   ],
   "source": [
    "np.log2(arr_3)"
   ]
  },
  {
   "cell_type": "code",
   "execution_count": 53,
   "id": "46467a4e",
   "metadata": {},
   "outputs": [
    {
     "data": {
      "text/plain": [
       "np.int64(3)"
      ]
     },
     "execution_count": 53,
     "metadata": {},
     "output_type": "execute_result"
    }
   ],
   "source": [
    "np.gcd.reduce([9,12,15]) #lcm"
   ]
  },
  {
   "cell_type": "code",
   "execution_count": 54,
   "id": "cd9fb2e6",
   "metadata": {},
   "outputs": [
    {
     "data": {
      "text/plain": [
       "array([1., 2.])"
      ]
     },
     "execution_count": 54,
     "metadata": {},
     "output_type": "execute_result"
    }
   ],
   "source": [
    "np.floor([1.2,2.5]) #ceil"
   ]
  },
  {
   "cell_type": "code",
   "execution_count": 55,
   "id": "c0177742",
   "metadata": {},
   "outputs": [
    {
     "data": {
      "text/plain": [
       "array([ 1,  4,  9, 16])"
      ]
     },
     "execution_count": 55,
     "metadata": {},
     "output_type": "execute_result"
    }
   ],
   "source": [
    "sq_arr = np.arange(6)**2\n",
    "sq_arr[arr_3] # retrieves elements at indices 1, 2, 3, 4"
   ]
  },
  {
   "cell_type": "code",
   "execution_count": 56,
   "id": "9b2bc90c",
   "metadata": {},
   "outputs": [
    {
     "name": "stdout",
     "output_type": "stream",
     "text": [
      "[[8 7 8]\n",
      " [1 0 1]\n",
      " [1 1 9]\n",
      " [7 7 9]\n",
      " [4 0 8]]\n"
     ]
    }
   ],
   "source": [
    "arr_9 = np.random.randint(10, size=(5,3))\n",
    "print(arr_9)"
   ]
  },
  {
   "cell_type": "code",
   "execution_count": 57,
   "id": "b340c57c",
   "metadata": {},
   "outputs": [
    {
     "data": {
      "text/plain": [
       "array([0, 0, 2])"
      ]
     },
     "execution_count": 57,
     "metadata": {},
     "output_type": "execute_result"
    }
   ],
   "source": [
    "mc_index = arr_9.argmax(axis=0)\n",
    "mc_index"
   ]
  },
  {
   "cell_type": "code",
   "execution_count": 58,
   "id": "a52af4d6",
   "metadata": {},
   "outputs": [
    {
     "data": {
      "text/plain": [
       "array([[8, 7, 8],\n",
       "       [8, 7, 8],\n",
       "       [1, 1, 9]], dtype=int32)"
      ]
     },
     "execution_count": 58,
     "metadata": {},
     "output_type": "execute_result"
    }
   ],
   "source": [
    "max_num = arr_9[mc_index]\n",
    "max_num"
   ]
  },
  {
   "cell_type": "markdown",
   "id": "3a1fdd9e",
   "metadata": {},
   "source": [
    "# Reading from Files"
   ]
  },
  {
   "cell_type": "code",
   "execution_count": 59,
   "id": "9db0d1de",
   "metadata": {},
   "outputs": [
    {
     "data": {
      "text/plain": [
       "array([[ 37, 292],\n",
       "       [ 40, 228],\n",
       "       [ 49, 324],\n",
       "       [ 61, 376],\n",
       "       [ 72, 440],\n",
       "       [ 79, 496],\n",
       "       [ 83, 536],\n",
       "       [ 81, 556],\n",
       "       [ 75, 496],\n",
       "       [ 64, 412],\n",
       "       [ 53, 324],\n",
       "       [ 40, 320]])"
      ]
     },
     "execution_count": 59,
     "metadata": {},
     "output_type": "execute_result"
    }
   ],
   "source": [
    "import pandas as pd\n",
    "from numpy import genfromtxt\n",
    "\n",
    "ic_sales = pd.read_csv('icecreamsales.csv').to_numpy()\n",
    "ic_sales"
   ]
  },
  {
   "cell_type": "code",
   "execution_count": 60,
   "id": "cd33cc29",
   "metadata": {},
   "outputs": [
    {
     "data": {
      "text/plain": [
       "[array([], dtype=float64),\n",
       " array([ 37., 292.]),\n",
       " array([ 40., 228.]),\n",
       " array([ 49., 324.]),\n",
       " array([ 61., 376.]),\n",
       " array([ 72., 440.]),\n",
       " array([ 79., 496.]),\n",
       " array([ 83., 536.]),\n",
       " array([ 81., 556.]),\n",
       " array([ 75., 496.]),\n",
       " array([ 64., 412.]),\n",
       " array([ 53., 324.]),\n",
       " array([ 40., 320.])]"
      ]
     },
     "execution_count": 60,
     "metadata": {},
     "output_type": "execute_result"
    }
   ],
   "source": [
    "ic_sales_2 = genfromtxt('icecreamsales.csv', delimiter=',')\n",
    "ic_sales_2 = [row[~np.isnan(row)] for row in ic_sales_2]\n",
    "ic_sales_2"
   ]
  },
  {
   "cell_type": "markdown",
   "id": "90c46c67",
   "metadata": {},
   "source": [
    "# Statistics Functions"
   ]
  },
  {
   "cell_type": "code",
   "execution_count": 61,
   "id": "e5a04da7",
   "metadata": {},
   "outputs": [
    {
     "data": {
      "text/plain": [
       "np.float64(3.0)"
      ]
     },
     "execution_count": 61,
     "metadata": {},
     "output_type": "execute_result"
    }
   ],
   "source": [
    "saar_1 = np.arange(1,6)\n",
    "np.mean(saar_1) \n",
    "# median average std var\n",
    "# nanmedian, nanmean, nanstd, nanvar => ignore nan"
   ]
  },
  {
   "cell_type": "code",
   "execution_count": 62,
   "id": "1cb47c67",
   "metadata": {},
   "outputs": [
    {
     "name": "stdout",
     "output_type": "stream",
     "text": [
      "ic_sales\n",
      " [[ 37 292]\n",
      " [ 40 228]\n",
      " [ 49 324]\n",
      " [ 61 376]\n",
      " [ 72 440]\n",
      " [ 79 496]\n",
      " [ 83 536]\n",
      " [ 81 556]\n",
      " [ 75 496]\n",
      " [ 64 412]\n",
      " [ 53 324]\n",
      " [ 40 320]]\n"
     ]
    },
    {
     "data": {
      "text/plain": [
       "array([ 62.5, 394. ])"
      ]
     },
     "execution_count": 62,
     "metadata": {},
     "output_type": "execute_result"
    }
   ],
   "source": [
    "print(\"ic_sales\\n\", ic_sales)\n",
    "np.percentile(ic_sales, 50, axis=0)"
   ]
  },
  {
   "cell_type": "code",
   "execution_count": 63,
   "id": "8ee949e6",
   "metadata": {},
   "outputs": [
    {
     "data": {
      "text/plain": [
       "array([37, 40, 49, 61, 72, 79, 83, 81, 75, 64, 53, 40])"
      ]
     },
     "execution_count": 63,
     "metadata": {},
     "output_type": "execute_result"
    }
   ],
   "source": [
    "ic_sales[:,0]"
   ]
  },
  {
   "cell_type": "code",
   "execution_count": 64,
   "id": "9daab291",
   "metadata": {},
   "outputs": [
    {
     "data": {
      "text/plain": [
       "array([[1.        , 0.96181329],\n",
       "       [0.96181329, 1.        ]])"
      ]
     },
     "execution_count": 64,
     "metadata": {},
     "output_type": "execute_result"
    }
   ],
   "source": [
    "np.corrcoef(ic_sales[:,0], ic_sales[:,1]) # close to 1 => very high correlated"
   ]
  },
  {
   "cell_type": "code",
   "execution_count": 65,
   "id": "f3e57a2a",
   "metadata": {},
   "outputs": [],
   "source": [
    "# Calculating Regression line\n",
    "# Σ(x-x̅)*(y-ȳ) / Σ(x-x̅)2"
   ]
  },
  {
   "cell_type": "code",
   "execution_count": 66,
   "id": "cb373811",
   "metadata": {},
   "outputs": [
    {
     "data": {
      "text/plain": [
       "np.float64(35.56162100218779)"
      ]
     },
     "execution_count": 66,
     "metadata": {},
     "output_type": "execute_result"
    }
   ],
   "source": [
    "temp_mean = np.mean(ic_sales[:,0])\n",
    "sales_mean = np.mean(ic_sales[:,1])\n",
    "numerator = np.sum((ic_sales[:,0] - temp_mean) * (ic_sales[:,1] - sales_mean))\n",
    "denominator = np.sum(np.square(ic_sales[:,0] - temp_mean))\n",
    "slope = numerator/denominator\n",
    "y_i = sales_mean - slope * temp_mean\n",
    "y_i"
   ]
  },
  {
   "cell_type": "code",
   "execution_count": 67,
   "id": "3d2abc44",
   "metadata": {},
   "outputs": [
    {
     "data": {
      "text/plain": [
       "array([256.01208459, 273.8864465 , 327.50953224, 399.00697989,\n",
       "       464.54630691, 506.25315137, 530.08563392, 518.16939265,\n",
       "       482.42066882, 416.88134181, 351.34201479, 273.8864465 ])"
      ]
     },
     "execution_count": 67,
     "metadata": {},
     "output_type": "execute_result"
    }
   ],
   "source": [
    "reg_arr = ic_sales[:,0] * slope + y_i\n",
    "reg_arr"
   ]
  },
  {
   "cell_type": "markdown",
   "id": "470fcde9",
   "metadata": {},
   "source": [
    "# Trig Functions"
   ]
  },
  {
   "cell_type": "code",
   "execution_count": 68,
   "id": "4cd8b7aa",
   "metadata": {},
   "outputs": [
    {
     "data": {
      "text/plain": [
       "np.float64(180.0)"
      ]
     },
     "execution_count": 68,
     "metadata": {},
     "output_type": "execute_result"
    },
    {
     "data": {
      "image/png": "[encoded data removed]",
      "text/plain": [
       "<Figure size 640x480 with 1 Axes>"
      ]
     },
     "metadata": {},
     "output_type": "display_data"
    }
   ],
   "source": [
    "t_arr = np.linspace(-np.pi,np.pi,200)\n",
    "plt.plot(t_arr, np.tan(t_arr))\n",
    "# y = cos(x), x = arccos(y)\n",
    "# arctanw, sinh, cosh, tanh, arcshinh, arccosh, arctanh\n",
    "\n",
    "np.rad2deg(np.pi)\n",
    "# np.deg2rad(180)"
   ]
  },
  {
   "cell_type": "code",
   "execution_count": 69,
   "id": "5a0dbb2e",
   "metadata": {},
   "outputs": [
    {
     "data": {
      "text/plain": [
       "np.float64(14.142135623730951)"
      ]
     },
     "execution_count": 69,
     "metadata": {},
     "output_type": "execute_result"
    }
   ],
   "source": [
    "# Hypotenuse c = √w² + h²\n",
    "np.hypot(10,10)"
   ]
  },
  {
   "cell_type": "markdown",
   "id": "80a64bc6",
   "metadata": {},
   "source": [
    "# Linear Algebra Functions"
   ]
  },
  {
   "cell_type": "code",
   "execution_count": 70,
   "id": "7ecd9ad3",
   "metadata": {},
   "outputs": [
    {
     "name": "stdout",
     "output_type": "stream",
     "text": [
      "arr_5\n",
      " [[1 2]\n",
      " [3 4]]\n",
      "arr_6\n",
      " [[2 4]\n",
      " [6 9]]\n"
     ]
    },
    {
     "data": {
      "text/plain": [
       "array([[14, 22],\n",
       "       [30, 48]])"
      ]
     },
     "execution_count": 70,
     "metadata": {},
     "output_type": "execute_result"
    }
   ],
   "source": [
    "from numpy import linalg as LA\n",
    "arr_5 = np.array([[1,2],[3,4]])\n",
    "arr_6 = np.array([[2,4],[6,9]])\n",
    "print(\"arr_5\\n\", arr_5)\n",
    "print(\"arr_6\\n\", arr_6)\n",
    "arr_8 = np.array([[5,6],[7,8]])\n",
    "\n",
    "np.dot(arr_5,arr_6)"
   ]
  },
  {
   "cell_type": "code",
   "execution_count": 71,
   "id": "ca067624",
   "metadata": {},
   "outputs": [
    {
     "data": {
      "text/plain": [
       "array([[224, 260],\n",
       "       [486, 564]])"
      ]
     },
     "execution_count": 71,
     "metadata": {},
     "output_type": "execute_result"
    }
   ],
   "source": [
    "LA.multi_dot([arr_5,arr_6,arr_8])"
   ]
  },
  {
   "cell_type": "code",
   "execution_count": 72,
   "id": "b64040f2",
   "metadata": {},
   "outputs": [
    {
     "data": {
      "text/plain": [
       "array([[10, 24],\n",
       "       [22, 54]])"
      ]
     },
     "execution_count": 72,
     "metadata": {},
     "output_type": "execute_result"
    }
   ],
   "source": [
    "np.inner(arr_5,arr_6)"
   ]
  },
  {
   "cell_type": "code",
   "execution_count": 73,
   "id": "a84bf700",
   "metadata": {},
   "outputs": [
    {
     "data": {
      "text/plain": [
       "array([30, 70], dtype=object)"
      ]
     },
     "execution_count": 73,
     "metadata": {},
     "output_type": "execute_result"
    }
   ],
   "source": [
    "arr_9 = np.array([[[1,2],[3,4]],[[5,6],[7,8]]])\n",
    "arr_10 = np.array([[1,2],[3,4]], dtype=object)\n",
    "np.tensordot(arr_9,arr_10)\n",
    "# (1 * 1) + (2 * 2) + (3 * 3) + (4 * 4) = 30\n",
    "# (5 * 1) + (6 * 2) + (7 * 3) + (8 * 4) = 70"
   ]
  },
  {
   "cell_type": "code",
   "execution_count": 74,
   "id": "23ab80a3",
   "metadata": {},
   "outputs": [
    {
     "data": {
      "text/plain": [
       "array([ 0, 22])"
      ]
     },
     "execution_count": 74,
     "metadata": {},
     "output_type": "execute_result"
    }
   ],
   "source": [
    "arr_11 = np.array([0,1])\n",
    "arr_12 = np.array([[0,1,2,3],[4,5,6,7]])\n",
    "\n",
    "# Einstein summation convention\n",
    "# [0, 4 + 5 + 6 + 7]\n",
    "np.einsum('i,ij->i', arr_11, arr_12)\n",
    "# arr_11: shape (2,) → indexed with 'i'\n",
    "# arr_12: shape (2, 4) → indexed with 'ij'\n",
    "# Output: shape (2,) → also indexed with 'i'"
   ]
  },
  {
   "cell_type": "code",
   "execution_count": 75,
   "id": "de66508e",
   "metadata": {},
   "outputs": [
    {
     "data": {
      "text/plain": [
       "np.int64(1)"
      ]
     },
     "execution_count": 75,
     "metadata": {},
     "output_type": "execute_result"
    }
   ],
   "source": [
    "np.einsum('i->', arr_11)\n"
   ]
  },
  {
   "cell_type": "code",
   "execution_count": 76,
   "metadata": {},
   "outputs": [
    {
     "name": "stdout",
     "output_type": "stream",
     "text": [
      "[1 2 3 4]\n",
      "[2 4 6 8]\n"
     ]
    },
    {
     "data": {
      "text/plain": [
       "np.int64(60)"
      ]
     },
     "execution_count": 76,
     "metadata": {},
     "output_type": "execute_result"
    }
   ],
   "source": [
    "print(arr_3)\n",
    "print(arr_4)\n",
    "np.einsum('i,i->', arr_3, arr_4)"
   ]
  },
  {
   "cell_type": "code",
   "execution_count": 77,
   "id": "ee3c2f07",
   "metadata": {},
   "outputs": [
    {
     "name": "stdout",
     "output_type": "stream",
     "text": [
      "[[1 2]\n",
      " [3 4]]\n",
      "[[2 4]\n",
      " [6 9]]\n"
     ]
    },
    {
     "data": {
      "text/plain": [
       "np.int64(114)"
      ]
     },
     "execution_count": 77,
     "metadata": {},
     "output_type": "execute_result"
    }
   ],
   "source": [
    "print(arr_5)\n",
    "print(arr_6)\n",
    "np.einsum('ij,jk->', arr_5, arr_6)"
   ]
  },
  {
   "cell_type": "code",
   "execution_count": 78,
   "id": "7110a6da",
   "metadata": {},
   "outputs": [
    {
     "data": {
      "text/plain": [
       "np.int64(5)"
      ]
     },
     "execution_count": 78,
     "metadata": {},
     "output_type": "execute_result"
    }
   ],
   "source": [
    "np.einsum('ii->', arr_5) # diagonal"
   ]
  },
  {
   "cell_type": "code",
   "execution_count": 79,
   "id": "f71e593b",
   "metadata": {},
   "outputs": [
    {
     "data": {
      "text/plain": [
       "array([[1, 3],\n",
       "       [2, 4]])"
      ]
     },
     "execution_count": 79,
     "metadata": {},
     "output_type": "execute_result"
    }
   ],
   "source": [
    "np.einsum('ji', arr_5) # tanspose"
   ]
  },
  {
   "cell_type": "code",
   "execution_count": 80,
   "id": "e533e79e",
   "metadata": {},
   "outputs": [
    {
     "data": {
      "text/plain": [
       "array([[ 7, 10],\n",
       "       [15, 22]])"
      ]
     },
     "execution_count": 80,
     "metadata": {},
     "output_type": "execute_result"
    }
   ],
   "source": [
    "# Raise matrix to the power of n\n",
    "# Given [[a, b], [c, d]]\n",
    "# [[a² + bc, ab +db], [ac + dc, d² + bc]\n",
    "LA.matrix_power(arr_5, 2)"
   ]
  },
  {
   "cell_type": "code",
   "execution_count": 81,
   "id": "4f73c8ac",
   "metadata": {},
   "outputs": [
    {
     "data": {
      "text/plain": [
       "array([-0.37228132,  5.37228132])"
      ]
     },
     "execution_count": 81,
     "metadata": {},
     "output_type": "execute_result"
    }
   ],
   "source": [
    "# compute eigenvalues\n",
    "LA.eigvals(arr_5)"
   ]
  },
  {
   "cell_type": "code",
   "execution_count": 82,
   "id": "31156c65",
   "metadata": {},
   "outputs": [
    {
     "data": {
      "text/plain": [
       "EigResult(eigenvalues=array([-0.37228132,  5.37228132]), eigenvectors=array([[-0.82456484, -0.41597356],\n",
       "       [ 0.56576746, -0.90937671]]))"
      ]
     },
     "execution_count": 82,
     "metadata": {},
     "output_type": "execute_result"
    }
   ],
   "source": [
    "# compute eigenvectors\n",
    "LA.eig(arr_5)"
   ]
  },
  {
   "cell_type": "code",
   "execution_count": 83,
   "id": "dd641b1d",
   "metadata": {},
   "outputs": [
    {
     "data": {
      "text/plain": [
       "np.float64(5.477225575051661)"
      ]
     },
     "execution_count": 83,
     "metadata": {},
     "output_type": "execute_result"
    }
   ],
   "source": [
    "# get vector norm sqrt(sum(x**2))\n",
    "LA.norm(arr_5)"
   ]
  },
  {
   "cell_type": "code",
   "execution_count": 84,
   "id": "55b75a23",
   "metadata": {},
   "outputs": [
    {
     "data": {
      "text/plain": [
       "array([[-2. ,  1. ],\n",
       "       [ 1.5, -0.5]])"
      ]
     },
     "execution_count": 84,
     "metadata": {},
     "output_type": "execute_result"
    }
   ],
   "source": [
    "# get multiplicative invers of a matrix\n",
    "LA.inv(arr_5)"
   ]
  },
  {
   "cell_type": "code",
   "execution_count": 85,
   "metadata": {},
   "outputs": [
    {
     "data": {
      "text/plain": [
       "np.float64(14.933034373659268)"
      ]
     },
     "execution_count": 85,
     "metadata": {},
     "output_type": "execute_result"
    }
   ],
   "source": [
    "# get condition number of matrix\n",
    "LA.cond(arr_5)"
   ]
  },
  {
   "cell_type": "code",
   "execution_count": 86,
   "id": "d66ffce3",
   "metadata": {},
   "outputs": [
    {
     "data": {
      "text/plain": [
       "np.float64(-2.0000000000000004)"
      ]
     },
     "execution_count": 86,
     "metadata": {},
     "output_type": "execute_result"
    }
   ],
   "source": [
    "# Determinates are used to compute volume, area, to solve systems\n",
    "# of equations and more. It is a way you can multiply values in a\n",
    "# matrix to get 1 number.\n",
    "# For a matrix to have an inverse its determinate must not equal 0\n",
    "# det([[a, b], [c, d]]) = a*d - b*c\n",
    "arr_12 = np.array([[1,2],[3,4]])\n",
    "LA.det(arr_12)\n",
    "\n",
    "# Determinate of 3x3 Matrix\n",
    "# det([[a, b, c], [d, e, f], [g, h, i]]) = a*e*i - b*d*i + c*d*h\n",
    "# - a*f*h + b*f*g - c*e*g"
   ]
  },
  {
   "cell_type": "code",
   "execution_count": 87,
   "id": "91bc6cfc",
   "metadata": {},
   "outputs": [
    {
     "data": {
      "text/plain": [
       "array([[1.0000000e+00, 0.0000000e+00],\n",
       "       [8.8817842e-16, 1.0000000e+00]])"
      ]
     },
     "execution_count": 87,
     "metadata": {},
     "output_type": "execute_result"
    }
   ],
   "source": [
    "# When we multiply a matrix times its inverse we get the identity\n",
    "# matrix [[1,0],[0,1]] for a 2x2 matrix\n",
    "# Calculate the inverse 1/(a*d - b*c) * [[d, -b], [-c, a]]\n",
    "arr_12_i = LA.inv(arr_12)\n",
    "arr_12_i\n",
    "np.dot(arr_12, arr_12_i)"
   ]
  },
  {
   "cell_type": "code",
   "execution_count": 88,
   "id": "65ba11f8",
   "metadata": {},
   "outputs": [
    {
     "data": {
      "text/plain": [
       "array([-2.,  3.])"
      ]
     },
     "execution_count": 88,
     "metadata": {},
     "output_type": "execute_result"
    }
   ],
   "source": [
    "# Solving Systems of Linear Equations\n",
    "# If you have 3x + 5 = 9x -> 5 = 6x -> x = 5/6\n",
    "# If you have x + 4y = 10 & 6x + 18y = 42\n",
    "# Isolate x -> x = 10 - 4y\n",
    "# 6(10 - 4y) + 18y = 42 -> 60 - 24y + 18y = 42 - > -6y = -18 -> y = 3\n",
    "# x + 4*3 = 10 -> x = -2\n",
    "arr_13 = np.array([[1,4],[6,18]])\n",
    "arr_14 = np.array([10,42])\n",
    "LA.solve(arr_13, arr_14)"
   ]
  },
  {
   "cell_type": "code",
   "execution_count": 89,
   "id": "96b5dd21",
   "metadata": {},
   "outputs": [
    {
     "data": {
      "text/plain": [
       "array([[1, 0],\n",
       "       [0, 1]])"
      ]
     },
     "execution_count": 89,
     "metadata": {},
     "output_type": "execute_result"
    }
   ],
   "source": [
    "# Return a identity matrix with defined number of rows and columns\n",
    "np.eye(2,2, dtype=int)"
   ]
  },
  {
   "cell_type": "markdown",
   "id": "94a99295",
   "metadata": {},
   "source": [
    "# Saving & Loading NumPy Objects"
   ]
  },
  {
   "cell_type": "code",
   "execution_count": 90,
   "id": "695def79",
   "metadata": {},
   "outputs": [
    {
     "data": {
      "text/plain": [
       "array([[1, 2],\n",
       "       [3, 4]])"
      ]
     },
     "execution_count": 90,
     "metadata": {},
     "output_type": "execute_result"
    }
   ],
   "source": [
    "arr_15 = np.array([[1,2],[3,4]])\n",
    "np.save('randarray', arr_15)\n",
    "arr_16 = np.load('randarray.npy')\n",
    "arr_16"
   ]
  },
  {
   "cell_type": "code",
   "execution_count": 91,
   "id": "dbe8f2bc",
   "metadata": {},
   "outputs": [
    {
     "data": {
      "text/plain": [
       "array([[1., 2.],\n",
       "       [3., 4.]])"
      ]
     },
     "execution_count": 91,
     "metadata": {},
     "output_type": "execute_result"
    }
   ],
   "source": [
    "np.savetxt('randcsv.csv',arr_15)\n",
    "arr_17 = np.loadtxt('randcsv.csv')\n",
    "arr_17"
   ]
  },
  {
   "cell_type": "markdown",
   "id": "9a9c028e",
   "metadata": {},
   "source": [
    "# Financial Functions"
   ]
  },
  {
   "cell_type": "code",
   "execution_count": 92,
   "id": "5251c732",
   "metadata": {},
   "outputs": [
    {
     "data": {
      "text/plain": [
       "np.float64(74066.27016650053)"
      ]
     },
     "execution_count": 92,
     "metadata": {},
     "output_type": "execute_result"
    }
   ],
   "source": [
    "import numpy_financial as npf\n",
    "# future value\n",
    "npf.fv(.08/12, 10*12, -400, -400)\n",
    "# 8% annual interest\n",
    "# 10 years × 12 months\n",
    "# monthly deposit of $400\n",
    "# you also deposit $400 initially"
   ]
  },
  {
   "cell_type": "code",
   "execution_count": 93,
   "id": "20f8a989",
   "metadata": {},
   "outputs": [
    {
     "name": "stdout",
     "output_type": "stream",
     "text": [
      "1 -239.58 -23.12 2760.42\n",
      "2 -241.42 -21.28 2519.0\n",
      "3 -243.29 -19.42 2275.71\n",
      "4 -245.16 -17.54 2030.55\n",
      "5 -247.05 -15.65 1783.5\n",
      "6 -248.95 -13.75 1534.55\n",
      "7 -250.87 -11.83 1283.67\n",
      "8 -252.81 -9.89 1030.87\n",
      "9 -254.76 -7.95 776.11\n",
      "10 -256.72 -5.98 519.39\n",
      "11 -258.7 -4.0 260.69\n",
      "12 -260.69 -2.01 0.0\n"
     ]
    },
    {
     "data": {
      "text/plain": [
       "np.float64(21.8)"
      ]
     },
     "execution_count": 93,
     "metadata": {},
     "output_type": "execute_result"
    }
   ],
   "source": [
    "period = np.arange(1*12) + 1 # Periods 1 to 12 (months in a year)\n",
    "principle = 3000.00 # Initial principal\n",
    "ipmt = npf.ipmt(0.0925/12, period, 1*12, principle) # Interest portion\n",
    "ppmt = npf.ppmt(0.0925/12, period, 1*12, principle) # Principal portion\n",
    "\n",
    "for payment in period:\n",
    "    index = payment -1\n",
    "    principle = principle + ppmt[index]\n",
    "    print(f\"{payment} {np.round(ppmt[index], 2)} {np.round(ipmt[index], 2)} {np.round(principle, 2)}\")\n",
    "\n",
    "np.round(npf.nper(0.0925/12, -150, 3000.00), 2) # number of periods needed to pay off a loan"
   ]
  },
  {
   "cell_type": "code",
   "execution_count": 94,
   "id": "19486d47",
   "metadata": {},
   "outputs": [
    {
     "data": {
      "text/plain": [
       "np.float64(2898.600220908811)"
      ]
     },
     "execution_count": 94,
     "metadata": {},
     "output_type": "execute_result"
    }
   ],
   "source": [
    "npf.npv(0.08, [-15000, 4000, 5000, 6000, 7000]) # calculate the Net Present Value (NPV) of a series of cash flows\n",
    "# Discount rate (8%)\n",
    "# Year 0: -15,000 (initial investment, outflow)\n",
    "# Year 1: +4,000 (inflow)\n",
    "# ...\n"
   ]
  },
  {
   "cell_type": "markdown",
   "id": "281a9b9e",
   "metadata": {},
   "source": [
    "# Comparison Functions"
   ]
  },
  {
   "cell_type": "code",
   "execution_count": null,
   "id": "3854067a",
   "metadata": {},
   "outputs": [
    {
     "data": {
      "text/plain": [
       "array([False,  True])"
      ]
     },
     "execution_count": 95,
     "metadata": {},
     "output_type": "execute_result"
    }
   ],
   "source": [
    "carr_1 = np.array([2,3])\n",
    "carr_2 = np.array([3,2])\n",
    "np.greater(carr_1, carr_2) # greater_equal, less, less_equal, not_equal, equal"
   ]
  }
 ],
 "metadata": {
  "kernelspec": {
   "display_name": "Python 3",
   "language": "python",
   "name": "python3"
  },
  "language_info": {
   "codemirror_mode": {
    "name": "ipython",
    "version": 3
   },
   "file_extension": ".py",
   "mimetype": "text/x-python",
   "name": "python",
   "nbconvert_exporter": "python",
   "pygments_lexer": "ipython3",
   "version": "3.13.2"
  }
 },
 "nbformat": 4,
 "nbformat_minor": 5
}
